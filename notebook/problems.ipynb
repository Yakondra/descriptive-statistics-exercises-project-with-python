{
    "cells": [
        {
            "cell_type": "markdown",
            "id": "ac622319",
            "metadata": {},
            "source": [
                "# Descriptive statistics problems"
            ]
        },
        {
            "cell_type": "markdown",
            "id": "aa8993e4",
            "metadata": {},
            "source": [
                "### Exercise 1"
            ]
        },
        {
            "cell_type": "markdown",
            "id": "5e0ab0d5",
            "metadata": {},
            "source": [
                "We will use Numpy to obtain information to describe statistically.\n",
                "\n",
                "- Generate an array of 100 elements following a normal distribution.\n",
                "- Generate an array of 100 elements following a chi-square distribution with 3 degrees of freedom.\n",
                "- Calculate the main metrics and statistical measures that best describe the two vectors."
            ]
        },
        {
            "cell_type": "code",
            "execution_count": 20,
            "id": "34720ab6",
            "metadata": {},
            "outputs": [
                {
                    "name": "stdout",
                    "output_type": "stream",
                    "text": [
                        "Values with normal distribution: [ 1.74945474 -0.286073   -0.48456513 -2.65331856 -0.00828463 -0.31963136\n",
                        " -0.53662936  0.31540267  0.42105072 -1.06560298 -0.88623967 -0.47573349\n",
                        "  0.68968231  0.56119218 -1.30554851 -1.11947526  0.73683739  1.57463407\n",
                        " -0.03107509 -0.68344663  1.0956297  -0.30957664  0.72575222  1.54907163\n",
                        "  0.63007982  0.07349324  0.73227135 -0.64257539 -0.17809318 -0.57395456\n",
                        " -0.20437532 -0.4864951  -0.18577532 -0.38053642  0.08897764  0.06367166\n",
                        "  0.29634711  1.40277112 -1.54686257  1.29561858 -0.23725045 -1.23234621\n",
                        " -0.17241977  0.09183837  1.06755846 -1.06163445  0.21734821  0.1178195\n",
                        " -1.68411089 -1.18575527  0.60010201  0.69556726  1.08771086  0.53382172\n",
                        "  0.39521201  0.12286753  1.20910164 -0.8430661  -0.14189358  0.38535414\n",
                        " -1.57749431  1.31094364 -0.79286501 -0.07174941  2.15667443 -0.82943725\n",
                        " -0.52937203  1.56170369 -1.08019383 -0.43205762  0.51608404  0.45539286\n",
                        "  0.5936862   0.37050633  1.34537807  1.01594215  0.59527845 -0.68280162\n",
                        " -0.71355993 -1.90828954  0.68731235 -1.82300958  0.8791138   1.84636487\n",
                        " -1.0616544  -0.68448467 -0.47621448  0.83031043 -0.86335252 -0.13054147\n",
                        " -0.52308763 -0.25127692  1.29127473 -0.96420485  0.07175977  0.2716063\n",
                        "  0.85866717 -1.26407368  1.11487028  0.43477699]\n",
                        "Values with 3 degrees of freedom: [ 4.77737524  2.49156747  4.58325358  2.41372507 11.05408281  2.25417215\n",
                        "  4.75227911  3.63655053  2.14547906  0.34184577  2.83879816  0.64558176\n",
                        "  2.37024373  1.53131217  2.05783082  1.46676103  2.68169619  1.80760646\n",
                        "  7.50204128  1.44637009  2.0160871   3.1506224   2.64496525  3.63053483\n",
                        "  2.9355167   5.00561909  1.15779789  0.62169493  4.51214142  0.60673931\n",
                        "  0.72467257  2.60247383  1.12567035  7.52275136  7.82498814  1.6102853\n",
                        "  4.93836684  1.19976206  4.19295161  0.63562508  2.65326821  2.06052674\n",
                        "  2.77905428  0.44744488  2.27269179  1.11713145  2.23277936  1.55257711\n",
                        "  2.23688804  1.58620886  7.46451896  7.7678995   8.28805287  5.85331853\n",
                        "  0.44237452  0.45455049  0.64074079  7.43548024  2.35910864  1.67460137\n",
                        "  3.18018662  3.34483744  0.11055291  3.17499903  7.64000131  4.16186353\n",
                        "  1.69544676  4.00084071  0.67056741  0.79029997  1.16918184  5.39479069\n",
                        "  2.73256267  6.48168075  5.90429281  2.46726159  1.94054553  0.99523119\n",
                        "  3.16832954  2.77459033  1.41713019  7.83519294  1.01812062  1.78686944\n",
                        "  7.46881355  8.66143837  1.50554376  5.325736    2.14222433  5.85620976\n",
                        "  3.43739665  5.69181591  3.46521924  1.49189526  0.26307925  1.75337566\n",
                        "  4.32379717  3.36989722  2.40241727  1.98371047]\n"
                    ]
                }
            ],
            "source": [
                "import numpy as np\n",
                "\n",
                "np.random.seed(11)\n",
                "normalarray = np.random.normal(size = 100)\n",
                "normalchi= np.random.chisquare (3, size= 100)\n",
                "\n",
                "print(f\"Values with normal distribution: {normalarray}\")\n",
                "print(f\"Values with 3 degrees of freedom: {normalchi}\")"
            ]
        },
        {
            "cell_type": "code",
            "execution_count": 2,
            "id": "cac0c4d6",
            "metadata": {},
            "outputs": [
                {
                    "name": "stdout",
                    "output_type": "stream",
                    "text": [
                        "Values normal mean: 0.011518208025484016\n",
                        "Values chi mean: 3.1577500084038292\n",
                        "Values normal median: 0.02769351602592101\n",
                        "Values chi median: 2.4404933312905275\n",
                        "Values normal mode: 1.7494547413051793\n",
                        "Values chi mode: 4.777375238051677\n",
                        "Values normal range: 4.8099929850682575\n",
                        "Values chi range: 10.943529902558646\n",
                        "Values normal variance: 0.8793775013307183\n",
                        "Values chi variance: 5.505208735124598\n",
                        "Values normal desvest: 0.9377513003620515\n",
                        "Values chi mode: 2.346318123171834\n",
                        "Values normal skewness: -0.1129895533296031\n",
                        "Values chi skewness: 1.0729786144601812\n",
                        "Values normal kurtosis: -0.294549925847031\n",
                        "Values chi kurtosis: 0.49659280317943777\n"
                    ]
                }
            ],
            "source": [
                "import statistics as st\n",
                "import numpy as np\n",
                "\n",
                "np.random.seed(11)\n",
                "normalarray = np.random.normal(size = 100)\n",
                "normalchi= np.random.chisquare (3, size= 100)\n",
                "\n",
                "Meannormal = st.mean(normalarray)\n",
                "MeanChi = st.mean(normalchi)\n",
                "\n",
                "Mediannormal = st.median(normalarray)\n",
                "MedianChi = st.median(normalchi)\n",
                "\n",
                "Modenormal = st.mode(normalarray)\n",
                "ModeChi = st.mode(normalchi)\n",
                "\n",
                "RangeNormal = max(normalarray) - min(normalarray)\n",
                "RangeChi = max(normalchi) - min(normalchi)\n",
                "\n",
                "VarianceNormal = normalarray.var()\n",
                "VarianceChi = normalchi.var()\n",
                "\n",
                "DesVestNormnal = st.stdev(normalarray)\n",
                "DesVestChi = st.stdev(normalchi)\n",
                "\n",
                "from scipy.stats import skew \n",
                "\n",
                "SkewNormal = skew(normalarray)\n",
                "SkewChi = skew(normalchi)\n",
                "\n",
                "from scipy.stats import kurtosis\n",
                "\n",
                "KurtNormal = kurtosis(normalarray)\n",
                "KurtChi = kurtosis(normalchi)\n",
                "\n",
                "print(f\"Values normal mean: {Meannormal}\")\n",
                "print(f\"Values chi mean: {MeanChi}\")\n",
                "\n",
                "print(f\"Values normal median: {Mediannormal}\")\n",
                "print(f\"Values chi median: {MedianChi}\")\n",
                "\n",
                "print(f\"Values normal mode: {Modenormal}\")\n",
                "print(f\"Values chi mode: {ModeChi}\")\n",
                "\n",
                "print(f\"Values normal range: {RangeNormal}\")\n",
                "print(f\"Values chi range: {RangeChi}\")\n",
                "\n",
                "print(f\"Values normal variance: {VarianceNormal}\")\n",
                "print(f\"Values chi variance: {VarianceChi}\")\n",
                "\n",
                "print(f\"Values normal desvest: {DesVestNormnal}\")\n",
                "print(f\"Values chi mode: {DesVestChi}\")\n",
                "\n",
                "print(f\"Values normal skewness: {SkewNormal}\")\n",
                "print(f\"Values chi skewness: {SkewChi}\")\n",
                "\n",
                "print(f\"Values normal kurtosis: {KurtNormal}\")\n",
                "print(f\"Values chi kurtosis: {KurtChi}\")\n"
            ]
        },
        {
            "cell_type": "markdown",
            "id": "46c70c3d",
            "metadata": {},
            "source": [
                "### Exercise 2\n",
                "\n",
                "Write a Python program to calculate the standard deviation of the following data:\n",
                "\n",
                "```py\n",
                "data = [4, 2, 5, 8, 6]\n",
                "```"
            ]
        },
        {
            "cell_type": "code",
            "execution_count": 5,
            "id": "d590308e",
            "metadata": {},
            "outputs": [
                {
                    "name": "stdout",
                    "output_type": "stream",
                    "text": [
                        "2.0\n"
                    ]
                }
            ],
            "source": [
                "import math\n",
                "\n",
                "lista = [4, 2, 5, 8, 6]\n",
                "\n",
                "def standard_desv(num):\n",
                "    n= len(lista)\n",
                "    if n < 2:\n",
                "        return 0\n",
                "    \n",
                "    mean = sum(lista)/n\n",
                "    sum_squares = sum((x - mean) **2 for x in lista)\n",
                "    desv = math.sqrt(sum_squares/n)\n",
                "    return desv\n",
                "\n",
                "result_st = standard_desv(lista)\n",
                "\n",
                "print(result_st)\n",
                "\n"
            ]
        }
    ],
    "metadata": {
        "interpreter": {
            "hash": "9248718ffe6ce6938b217e69dbcc175ea21f4c6b28a317e96c05334edae734bb"
        },
        "kernelspec": {
            "display_name": "Python 3.9.12 ('ML-BOOTCAMP')",
            "language": "python",
            "name": "python3"
        },
        "language_info": {
            "codemirror_mode": {
                "name": "ipython",
                "version": 3
            },
            "file_extension": ".py",
            "mimetype": "text/x-python",
            "name": "python",
            "nbconvert_exporter": "python",
            "pygments_lexer": "ipython3",
            "version": "3.11.4"
        }
    },
    "nbformat": 4,
    "nbformat_minor": 5
}
